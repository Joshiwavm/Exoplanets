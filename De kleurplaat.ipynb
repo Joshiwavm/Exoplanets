{
 "cells": [
  {
   "cell_type": "markdown",
   "metadata": {},
   "source": [
    "# Transit van exoplaneet WASP-203b\n",
    "\n",
    "#### De exoplanet WASP-203b\n",
    "In deze opdracht gaan we de exoplaneet WASP-203b analyseren.  Deze planeet is in grootte vergelijkbaar met Jupiter, maar beweegt in een hele korte baan om zijn ster. Omdat het baanvlak van deze exoplaneet gunstig is, zal de planeet eens per omwenteling voor zijn moederster langs trekken. Dit noemen we een transit. Terwijl dit gebeurt blokkeert de planeet een fractie van het sterlicht. Hierdoor lijkt de ster vanaf een afstand iets minder helder te worden. Door dit helderheidsverschil te meten, kun je afleiden hoe groot de planeet is. Gedurende deze opgave nemen we de volgende parameters aan voor de moederster WASP-203: Een massa van 0.80 $M_z$, een straal van 0.77 $R_z$ en een lichtkracht van 0.490 $L_z$.\n",
    "\n",
    "#### Python\n",
    "Wij gebruiken de computertaal $python$ om echte data te analyseren. In de python file maken we gebruik van verschillende \"cells\". Dit kan je zien als alinea's. In de file is al wat code geschreven. De tweede alinea bevat sterrenkundige constantes. De derde alinea bevat een functie. Je hoeft in principie niet naar de functie te kijken, boven de functie staat de beschrijving als je toch geïntresseerd ben. Wij hebben de data in alinea 4 ingelezen. We meten de flux (De hoeveelheid energie die een object per $m_2$ per seconde uitstraalt) als functie van de fase ($\\theta$). De eerste kolom bevat de fase ($\\theta$) van de baan. De tweede kolom is de flux (F). $\\theta$ geeft aan op welke plek de planeet zich in zijn baan bevindt. Bij $\\theta$ = 0 is de planeet in het midden van de transit. Bij $\\theta$ = 0.5 is hij precies achter de ster, en bij $\\theta$ = 1 is hij weer precies voor de ster.\n",
    "\n",
    "#### variabelen\n",
    "Voordat we beginnen introduceren we het concept 'variabelen'. Een variabele is eigenlijk een woord dat informatie bevat. We kunnen alinea 4 gebruiken als voorbeeld. Zo bevat het woordje \"data\" de tabel met alle meetpunten van de transit en bevat het woordje \"fase\" de eerste kolom van deze tabel. Hierdoor hoef je niet de hele tabel in te vullen als je iets wil berekenen, maar gebruik je variabele waarin de tabel staat opgeslagen."
   ]
  },
  {
   "cell_type": "markdown",
   "metadata": {},
   "source": [
    "Bij de volgende opdrachten wordt het aangemoedigd om Google te gebruiken wanneer nodig."
   ]
  },
  {
   "cell_type": "code",
   "execution_count": 1,
   "metadata": {
    "collapsed": true
   },
   "outputs": [],
   "source": [
    "'''\n",
    "De volgende twee blokken mogen genegeerd worden\n",
    "'''\n",
    "\n",
    "import math\n",
    "import numpy as np\n",
    "import matplotlib.pyplot as plt\n",
    "%matplotlib inline"
   ]
  },
  {
   "cell_type": "markdown",
   "metadata": {},
   "source": [
    "Zoals eerder vermeld bevind de alinea hieronder natuurlijke constantes. Zo bevat bijvoorbeeld de variabele Mz de massa van onze zon in kg. Dit is handig voor het maken van berekenen. Hierdoor hoef je niet het volledige getal 1.989e30 in te typen, maar kan je in de plaats daarvan de variable Mz gebruiken. Dit houd de berekeningen overzichtelijk. "
   ]
  },
  {
   "cell_type": "code",
   "execution_count": 2,
   "metadata": {
    "collapsed": true
   },
   "outputs": [],
   "source": [
    "Mz = 1.989e30 #kg\n",
    "Rz = 696342000 #m\n",
    "Lz = 3.839e26 #W\n",
    "Mm = 0.8 #Mz\n",
    "Rm = 0.77 #Rz\n",
    "Mj = 1.898E27 #kg\n",
    "AU = 149597871e3 #m\n",
    "G = 6.67428e-11 #m^3/kg/s^2\n",
    "Lm = 0.490 * Lz\n",
    "bin_size = 0.01\n",
    "sigma = 5.670373 * 10**(-8)"
   ]
  },
  {
   "cell_type": "markdown",
   "metadata": {},
   "source": [
    "De functie hier beneden, ziet er misschien heel eng uit, maar het enige wat het doet is de data opsplitten in kleine vakjes (Bins). In deze vakjes pakken we de hoogste en de laagste waarde en berekend de functie het gemiddelde uit. Hierdoor kan de data dus gereduceerd worden. "
   ]
  },
  {
   "cell_type": "code",
   "execution_count": 3,
   "metadata": {
    "collapsed": true
   },
   "outputs": [],
   "source": [
    "#setting bins to reduce data noise/ reduce data to be able to make a clear fit\n",
    "def bincurve(phase, flux, binsize):\n",
    "    bins = 1.0 / binsize\n",
    "    #werkt alleen met een array met waarden tussen 0 en 1!\n",
    "    newphase = []\n",
    "    newflux = []\n",
    "    x = np.arange(np.min(phase),np.max(phase), binsize)\n",
    "    for bin in x:\n",
    "        count = 0\n",
    "        f = []\n",
    "        for p in range(len(phase)):\n",
    "            if (phase[p] >= bin and phase[p] < bin+binsize):\n",
    "                count = count + 1\n",
    "                f.append(flux[p])\n",
    "\n",
    "        newphase.append(bin + binsize/2)\n",
    "        g = np.array(f)\n",
    "        newflux.append(np.mean(g))\n",
    "\n",
    "    return np.array(newphase),np.array(newflux)"
   ]
  },
  {
   "cell_type": "markdown",
   "metadata": {},
   "source": [
    "Hier beneden wordt de data ingelezen."
   ]
  },
  {
   "cell_type": "code",
   "execution_count": 5,
   "metadata": {},
   "outputs": [],
   "source": [
    "data = np.loadtxt('WASP-203_lightcurve.dat')\n",
    "fase = data [:,0]\n",
    "flux = data [:,1]"
   ]
  },
  {
   "cell_type": "markdown",
   "metadata": {},
   "source": [
    "Om de ruwe data te zien kan je op de alinea hierboven klikken, en dan bovenaan op $Insert -> Insert\\ cell\\ below$ klikken en in de nieuwe alinea de functie $print()$ typen. Tussen de haakjes moet je de variabelen zetten die je wilt printen. Bijvoorbeeld: print(flux)"
   ]
  },
  {
   "cell_type": "markdown",
   "metadata": {},
   "source": [
    "$\\textbf{(1)}$\n",
    "  \n",
    "Wat we nu gaan doen is de data visualiseren om gevoel te krijgen voor waar we mee bezig zijn. \n",
    "Dit doen we door de fase $\\theta$ tegenover de Flux (F) te plotten. In de code, hieronder, staan 4 vragen. Vul de vragen in door de vraag te vervangen met het antwoord. Laat de aanhalingstekens staan en laat in de eerste regel '.' staan. Na het invullen run je de cell/alinea door Shift-Enter in te drukken. "
   ]
  },
  {
   "cell_type": "code",
   "execution_count": null,
   "metadata": {
    "scrolled": true
   },
   "outputs": [],
   "source": [
    "plt.plot(Welke variabele komt op de X-as?, Welke variabele komt op de Y-as?, '.')\n",
    "plt.xlabel(\"Hoe heet de x-as?\")\n",
    "plt.ylabel(\"Hoe heet de Y-as?\")\n",
    "plt.show()"
   ]
  },
  {
   "cell_type": "markdown",
   "metadata": {},
   "source": [
    "$\\textit{Bekijk de plot. Wat valt op? Kunnen we hier data analyse mee doen?}$"
   ]
  },
  {
   "cell_type": "markdown",
   "metadata": {},
   "source": [
    "De flux van de ster is genormaliseerd. Dit betekent dat de gemiddelde waarde van de lichtsterkte wanneer de planeet niet voor de ster langs gaat gelijk is gezet aan 1. Dit wordt gedaan omdat we alleen geinteresseerd zijn in de relatieve verandering van de lichtcurve, namelijk: Welk percentage van het sterlicht wordt tijdens de transit geblokkeerd?\n",
    "\n",
    "Zoals je kan zien bevat de plot veel ruis. Om verdere analyse te kunnen doen moeten we de ruis verminderen. Dit doen we door gebruik te maken van de bovenstaande functie: bincurve."
   ]
  },
  {
   "cell_type": "markdown",
   "metadata": {},
   "source": [
    "Hieronder wordt de data gereduceerd."
   ]
  },
  {
   "cell_type": "code",
   "execution_count": 20,
   "metadata": {
    "collapsed": true
   },
   "outputs": [],
   "source": [
    "binned = bincurve(fase, flux, bin_size)\n",
    "fase_bin = binned[0]\n",
    "flux_bin = binned[1]"
   ]
  },
  {
   "cell_type": "markdown",
   "metadata": {},
   "source": [
    "$\\textit{De nieuwe fase heet nu 'fase_bin' en de nieuwe flux heet 'flux_bin'.}$"
   ]
  },
  {
   "cell_type": "markdown",
   "metadata": {},
   "source": [
    "$\\textbf{(2)}$\n",
    "  \n",
    "Laten we de gereduceerde data visualiseren door het opnieuw te plotten. Voer net zoals bij opdracht 1 de vragen in."
   ]
  },
  {
   "cell_type": "code",
   "execution_count": null,
   "metadata": {},
   "outputs": [],
   "source": [
    "plt.plot(Welke variabele komt op de x-as?, Welke variabele komt op de Y-as?)\n",
    "plt.xlabel(\"Hoe heet de x-as?\")\n",
    "plt.ylabel(\"Hoe heet de Y-as?\")\n",
    "plt.show()"
   ]
  },
  {
   "cell_type": "markdown",
   "metadata": {},
   "source": [
    "$Je\\ hebt\\ nu\\ de\\ gereduceerde\\ data\\ gezien.\\ Hoe\\ zou\\ je\\ zelf\\ de\\ data\\ reduceren\\ en\\ wat\\ denk\\ je\\ dat\\ de\\ functie\\ bincurve\\ doet?$"
   ]
  },
  {
   "cell_type": "markdown",
   "metadata": {},
   "source": [
    "Om gevoel te krijgen voor de data reductie kan je in de tweede alinea de binsize aanpassen. Wat is de maximale binsize? Wat gebeurt er wanneer de binsize groter of kleiner wordt? Vergeet niet de juiste alinea's opnieuw te runnen met Shift-Enter."
   ]
  },
  {
   "cell_type": "markdown",
   "metadata": {},
   "source": [
    "$\\textbf{(3)}$\n",
    "\n",
    "Welke fractie van het sterlicht wordt door de planeet geblokkeerd? Dit doen we door het gemiddelde te nemen van de bodem van de transit. Schat de maximale en minimale waarde van de bodem en vul deze in de eerste regel in. De tweede regel zal het gemiddelde berekenen van de bodem."
   ]
  },
  {
   "cell_type": "code",
   "execution_count": null,
   "metadata": {},
   "outputs": [],
   "source": [
    "flux_selection_bodem = flux_bin[(flux_bin < Wat is de maximale waarde?) & (flux_bin > Wat is de minimale waarde?)]\n",
    "Bodem = np.average(flux_selection_bodem)"
   ]
  },
  {
   "cell_type": "markdown",
   "metadata": {},
   "source": [
    "$\\textbf{(4)}$\n",
    "\n",
    "De variabele $Bodem$ bevat dus de hoeveelheid licht die wordt waargenomen wanneer de planeet voor de ster staat. Wat is dan de fractie van het sterlicht dat wordt geblokkeerd door de planeet? Vul dat hier beneden in."
   ]
  },
  {
   "cell_type": "code",
   "execution_count": null,
   "metadata": {},
   "outputs": [],
   "source": [
    "print (\"De fractie geblokkeerd sterlicht:\", Vul hier de hoeveelheid geblokkeerd sterlicht in)"
   ]
  },
  {
   "cell_type": "markdown",
   "metadata": {},
   "source": [
    "Bij de volgende opdrachten ben je waarschijnlijk geneigd om op papier en met een rekenmachine te werken, maar Python is beest. Met Python kun je veel beter het overzicht houden in je berekeningen door gebruik te maken van duidelijke variabelen. Hint: In alinea 2 staan veel constanten opgeslagen die je bij de volgende opdrachten nodig hebt."
   ]
  },
  {
   "cell_type": "markdown",
   "metadata": {},
   "source": [
    "Om de straal van de planeet te berekenen, gebruiken we de volgende formule:\n",
    "\n",
    "$$\\frac{F_*}{R_*^2} = \\frac{F_{transit}}{R_{planet}^2}$$\n",
    "\n",
    "$\\textbf{(5)}$\n",
    "\n",
    "Bereken de straal van de planeet in verhouding tot de straal van de ster."
   ]
  },
  {
   "cell_type": "code",
   "execution_count": null,
   "metadata": {
    "collapsed": true
   },
   "outputs": [],
   "source": []
  },
  {
   "cell_type": "markdown",
   "metadata": {},
   "source": [
    "\n",
    "Via de radiele snelheid methode is er een model gemaakt van de baan van de moederster om het massamiddelpunt heen. Als je niet weet wat dit is: Google is je vriend.  Via deze methode is de: inlcinatie van het sterrenstelsel bepaald (i = 81 graden); De baansnelheid van de ster ($v_*$ =  0.18 km/s); en de Periode (T) van de exoplaneet is afgeschat op T = 110 dagen. \n",
    "\n",
    "$\\textbf{(6)}$\n",
    "\n",
    "Gebruik de derde wet van Kepler om de halve lange as te berekenen. Kies een duidelijke eenheid om dit getal in uit te drukken."
   ]
  },
  {
   "cell_type": "code",
   "execution_count": null,
   "metadata": {
    "collapsed": true
   },
   "outputs": [],
   "source": []
  },
  {
   "cell_type": "markdown",
   "metadata": {},
   "source": [
    "Onder aanname van een cirkelvormige baan (e = 0) is de baansnelheid van de ster als volgt:\n",
    "$$v_* = \\left( \\frac{2\\pi G}{P}\\right)^{\\frac{1}{3}} \\ \\frac{M_p}{M_*^{\\frac{2}{3}}}$$\n",
    "\n",
    "$\\textbf{(7)}$\n",
    "\n",
    "Gebruik de bovenstaande vergelijking om de massa van de planeet te berekenen.\n"
   ]
  },
  {
   "cell_type": "code",
   "execution_count": null,
   "metadata": {
    "collapsed": true
   },
   "outputs": [],
   "source": []
  },
  {
   "cell_type": "markdown",
   "metadata": {},
   "source": [
    "\n",
    "$\\textbf{(8)}$\n",
    "\n",
    "Bereken de dichtheid van de planeet $\\rho_p$. Is dit veel of weinig? Vergelijk het antwoord dat je hebt gevonden met de dichtheid van andere bekende planeten.\n"
   ]
  },
  {
   "cell_type": "code",
   "execution_count": null,
   "metadata": {
    "collapsed": true
   },
   "outputs": [],
   "source": []
  },
  {
   "cell_type": "markdown",
   "metadata": {},
   "source": [
    "\n",
    "$\\textbf{(9)}$\n",
    "\n",
    "Op fase 0 gaat de planeet voor de ster langs, en zie je in de lichtcurve dat de ster wordt geblokkeerd door de planeet. Op fase 0.5 gaat de planeet achter de ster langs, en wordt de planeet dus door de ster geblokkeerd. Op fase 0.5 zie je echter amper een verandering in de lichtcurve. Hoe kan dit en wat heeft dit te maken met de albedo en de temperatuur van de planeet?"
   ]
  },
  {
   "cell_type": "code",
   "execution_count": null,
   "metadata": {
    "collapsed": true
   },
   "outputs": [],
   "source": []
  }
 ],
 "metadata": {
  "kernelspec": {
   "display_name": "Python 3",
   "language": "python",
   "name": "python3"
  },
  "language_info": {
   "codemirror_mode": {
    "name": "ipython",
    "version": 3
   },
   "file_extension": ".py",
   "mimetype": "text/x-python",
   "name": "python",
   "nbconvert_exporter": "python",
   "pygments_lexer": "ipython3",
   "version": "3.6.8"
  }
 },
 "nbformat": 4,
 "nbformat_minor": 2
}
